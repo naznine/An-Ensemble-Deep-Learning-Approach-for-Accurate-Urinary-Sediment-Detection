{
 "cells": [
  {
   "cell_type": "code",
   "execution_count": 1,
   "id": "2753b6cc",
   "metadata": {},
   "outputs": [
    {
     "name": "stdout",
     "output_type": "stream",
     "text": [
      "Collecting ensemble-boxes\n",
      "  Obtaining dependency information for ensemble-boxes from https://files.pythonhosted.org/packages/0e/5b/58e47cd45fc18da37205a80689606e0e203810f1beadbdaae620f491892b/ensemble_boxes-1.0.9-py3-none-any.whl.metadata\n",
      "  Downloading ensemble_boxes-1.0.9-py3-none-any.whl.metadata (728 bytes)\n",
      "Requirement already satisfied: numpy in c:\\users\\user\\anaconda3\\lib\\site-packages (from ensemble-boxes) (1.26.4)\n",
      "Requirement already satisfied: pandas in c:\\users\\user\\anaconda3\\lib\\site-packages (from ensemble-boxes) (2.0.3)\n",
      "Requirement already satisfied: numba in c:\\users\\user\\anaconda3\\lib\\site-packages (from ensemble-boxes) (0.57.1)\n",
      "Requirement already satisfied: llvmlite<0.41,>=0.40.0dev0 in c:\\users\\user\\anaconda3\\lib\\site-packages (from numba->ensemble-boxes) (0.40.0)\n",
      "Collecting numpy (from ensemble-boxes)\n",
      "  Obtaining dependency information for numpy from https://files.pythonhosted.org/packages/d8/ec/ebef2f7d7c28503f958f0f8b992e7ce606fb74f9e891199329d5f5f87404/numpy-1.24.4-cp311-cp311-win_amd64.whl.metadata\n",
      "  Downloading numpy-1.24.4-cp311-cp311-win_amd64.whl.metadata (5.6 kB)\n",
      "Requirement already satisfied: python-dateutil>=2.8.2 in c:\\users\\user\\anaconda3\\lib\\site-packages (from pandas->ensemble-boxes) (2.8.2)\n",
      "Requirement already satisfied: pytz>=2020.1 in c:\\users\\user\\anaconda3\\lib\\site-packages (from pandas->ensemble-boxes) (2023.3.post1)\n",
      "Requirement already satisfied: tzdata>=2022.1 in c:\\users\\user\\anaconda3\\lib\\site-packages (from pandas->ensemble-boxes) (2023.3)\n",
      "Requirement already satisfied: six>=1.5 in c:\\users\\user\\anaconda3\\lib\\site-packages (from python-dateutil>=2.8.2->pandas->ensemble-boxes) (1.16.0)\n",
      "Downloading ensemble_boxes-1.0.9-py3-none-any.whl (23 kB)\n",
      "Downloading numpy-1.24.4-cp311-cp311-win_amd64.whl (14.8 MB)\n",
      "   ---------------------------------------- 0.0/14.8 MB ? eta -:--:--\n",
      "   ---------------------------------------- 0.0/14.8 MB 1.9 MB/s eta 0:00:08\n",
      "   ---------------------------------------- 0.0/14.8 MB 1.9 MB/s eta 0:00:08\n",
      "   ---------------------------------------- 0.1/14.8 MB 845.5 kB/s eta 0:00:18\n",
      "   ---------------------------------------- 0.2/14.8 MB 919.0 kB/s eta 0:00:16\n",
      "    --------------------------------------- 0.2/14.8 MB 1.2 MB/s eta 0:00:13\n",
      "    --------------------------------------- 0.4/14.8 MB 1.4 MB/s eta 0:00:11\n",
      "   - -------------------------------------- 0.5/14.8 MB 1.7 MB/s eta 0:00:09\n",
      "   -- ------------------------------------- 0.8/14.8 MB 2.4 MB/s eta 0:00:06\n",
      "   -- ------------------------------------- 1.1/14.8 MB 2.7 MB/s eta 0:00:05\n",
      "   ---- ----------------------------------- 1.7/14.8 MB 3.8 MB/s eta 0:00:04\n",
      "   ------ --------------------------------- 2.3/14.8 MB 4.7 MB/s eta 0:00:03\n",
      "   ------- -------------------------------- 2.8/14.8 MB 5.2 MB/s eta 0:00:03\n",
      "   --------- ------------------------------ 3.5/14.8 MB 6.1 MB/s eta 0:00:02\n",
      "   ----------- ---------------------------- 4.2/14.8 MB 6.8 MB/s eta 0:00:02\n",
      "   ------------- -------------------------- 4.9/14.8 MB 7.3 MB/s eta 0:00:02\n",
      "   --------------- ------------------------ 5.6/14.8 MB 7.8 MB/s eta 0:00:02\n",
      "   ---------------- ----------------------- 6.2/14.8 MB 8.3 MB/s eta 0:00:02\n",
      "   ------------------ --------------------- 6.8/14.8 MB 8.3 MB/s eta 0:00:01\n",
      "   ------------------- -------------------- 7.1/14.8 MB 8.3 MB/s eta 0:00:01\n",
      "   -------------------- ------------------- 7.6/14.8 MB 8.3 MB/s eta 0:00:01\n",
      "   --------------------- ------------------ 8.0/14.8 MB 8.4 MB/s eta 0:00:01\n",
      "   ---------------------- ----------------- 8.5/14.8 MB 8.5 MB/s eta 0:00:01\n",
      "   ------------------------ --------------- 8.9/14.8 MB 8.5 MB/s eta 0:00:01\n",
      "   ------------------------- -------------- 9.4/14.8 MB 8.6 MB/s eta 0:00:01\n",
      "   --------------------------- ------------ 10.0/14.8 MB 8.8 MB/s eta 0:00:01\n",
      "   ---------------------------- ----------- 10.5/14.8 MB 10.7 MB/s eta 0:00:01\n",
      "   ----------------------------- ---------- 11.1/14.8 MB 11.5 MB/s eta 0:00:01\n",
      "   ------------------------------- -------- 11.7/14.8 MB 11.9 MB/s eta 0:00:01\n",
      "   -------------------------------- ------- 12.2/14.8 MB 11.7 MB/s eta 0:00:01\n",
      "   ---------------------------------- ----- 12.8/14.8 MB 11.9 MB/s eta 0:00:01\n",
      "   ----------------------------------- ---- 13.3/14.8 MB 11.9 MB/s eta 0:00:01\n",
      "   ------------------------------------- -- 14.0/14.8 MB 11.7 MB/s eta 0:00:01\n",
      "   ---------------------------------------  14.6/14.8 MB 11.7 MB/s eta 0:00:01\n",
      "   ---------------------------------------- 14.8/14.8 MB 11.5 MB/s eta 0:00:00\n",
      "Installing collected packages: numpy, ensemble-boxes\n",
      "  Attempting uninstall: numpy\n",
      "    Found existing installation: numpy 1.26.4\n",
      "    Uninstalling numpy-1.26.4:\n",
      "      Successfully uninstalled numpy-1.26.4\n",
      "Successfully installed ensemble-boxes-1.0.9 numpy-1.24.4\n"
     ]
    },
    {
     "name": "stderr",
     "output_type": "stream",
     "text": [
      "ERROR: pip's dependency resolver does not currently take into account all the packages that are installed. This behaviour is the source of the following dependency conflicts.\n",
      "gensim 4.3.0 requires FuzzyTM>=0.4.0, which is not installed.\n",
      "tables 3.8.0 requires blosc2~=2.0.0, which is not installed.\n",
      "tables 3.8.0 requires cython>=0.29.21, which is not installed.\n",
      "tensorflow-intel 2.18.0 requires numpy<2.1.0,>=1.26.0, but you have numpy 1.24.4 which is incompatible.\n"
     ]
    }
   ],
   "source": [
    "!pip install ensemble-boxes"
   ]
  },
  {
   "cell_type": "code",
   "execution_count": 8,
   "id": "1e07413c",
   "metadata": {},
   "outputs": [
    {
     "name": "stdout",
     "output_type": "stream",
     "text": [
      "Requirement already satisfied: ultralytics in c:\\users\\user\\anaconda3\\lib\\site-packages (8.3.36)\n",
      "Requirement already satisfied: numpy>=1.23.0 in c:\\users\\user\\anaconda3\\lib\\site-packages (from ultralytics) (1.24.4)\n",
      "Requirement already satisfied: matplotlib>=3.3.0 in c:\\users\\user\\anaconda3\\lib\\site-packages (from ultralytics) (3.7.2)\n",
      "Requirement already satisfied: opencv-python>=4.6.0 in c:\\users\\user\\anaconda3\\lib\\site-packages (from ultralytics) (4.9.0.80)\n",
      "Requirement already satisfied: pillow>=7.1.2 in c:\\users\\user\\anaconda3\\lib\\site-packages (from ultralytics) (10.3.0)\n",
      "Requirement already satisfied: pyyaml>=5.3.1 in c:\\users\\user\\anaconda3\\lib\\site-packages (from ultralytics) (6.0.1)\n",
      "Requirement already satisfied: requests>=2.23.0 in c:\\users\\user\\anaconda3\\lib\\site-packages (from ultralytics) (2.32.2)\n",
      "Requirement already satisfied: scipy>=1.4.1 in c:\\users\\user\\anaconda3\\lib\\site-packages (from ultralytics) (1.13.0)\n",
      "Requirement already satisfied: torch>=1.8.0 in c:\\users\\user\\anaconda3\\lib\\site-packages (from ultralytics) (2.2.0+cu118)\n",
      "Requirement already satisfied: torchvision>=0.9.0 in c:\\users\\user\\anaconda3\\lib\\site-packages (from ultralytics) (0.17.0+cu118)\n",
      "Requirement already satisfied: tqdm>=4.64.0 in c:\\users\\user\\anaconda3\\lib\\site-packages (from ultralytics) (4.65.0)\n",
      "Requirement already satisfied: psutil in c:\\users\\user\\anaconda3\\lib\\site-packages (from ultralytics) (5.9.8)\n",
      "Requirement already satisfied: py-cpuinfo in c:\\users\\user\\anaconda3\\lib\\site-packages (from ultralytics) (9.0.0)\n",
      "Requirement already satisfied: pandas>=1.1.4 in c:\\users\\user\\anaconda3\\lib\\site-packages (from ultralytics) (2.0.3)\n",
      "Requirement already satisfied: seaborn>=0.11.0 in c:\\users\\user\\anaconda3\\lib\\site-packages (from ultralytics) (0.12.2)\n",
      "Requirement already satisfied: ultralytics-thop>=2.0.0 in c:\\users\\user\\anaconda3\\lib\\site-packages (from ultralytics) (2.0.0)\n",
      "Requirement already satisfied: contourpy>=1.0.1 in c:\\users\\user\\anaconda3\\lib\\site-packages (from matplotlib>=3.3.0->ultralytics) (1.0.5)\n",
      "Requirement already satisfied: cycler>=0.10 in c:\\users\\user\\anaconda3\\lib\\site-packages (from matplotlib>=3.3.0->ultralytics) (0.11.0)\n",
      "Requirement already satisfied: fonttools>=4.22.0 in c:\\users\\user\\anaconda3\\lib\\site-packages (from matplotlib>=3.3.0->ultralytics) (4.25.0)\n",
      "Requirement already satisfied: kiwisolver>=1.0.1 in c:\\users\\user\\anaconda3\\lib\\site-packages (from matplotlib>=3.3.0->ultralytics) (1.4.4)\n",
      "Requirement already satisfied: packaging>=20.0 in c:\\users\\user\\anaconda3\\lib\\site-packages (from matplotlib>=3.3.0->ultralytics) (23.1)\n",
      "Requirement already satisfied: pyparsing<3.1,>=2.3.1 in c:\\users\\user\\anaconda3\\lib\\site-packages (from matplotlib>=3.3.0->ultralytics) (3.0.9)\n",
      "Requirement already satisfied: python-dateutil>=2.7 in c:\\users\\user\\anaconda3\\lib\\site-packages (from matplotlib>=3.3.0->ultralytics) (2.8.2)\n",
      "Requirement already satisfied: pytz>=2020.1 in c:\\users\\user\\anaconda3\\lib\\site-packages (from pandas>=1.1.4->ultralytics) (2023.3.post1)\n",
      "Requirement already satisfied: tzdata>=2022.1 in c:\\users\\user\\anaconda3\\lib\\site-packages (from pandas>=1.1.4->ultralytics) (2023.3)\n",
      "Requirement already satisfied: charset-normalizer<4,>=2 in c:\\users\\user\\anaconda3\\lib\\site-packages (from requests>=2.23.0->ultralytics) (2.0.4)\n",
      "Requirement already satisfied: idna<4,>=2.5 in c:\\users\\user\\anaconda3\\lib\\site-packages (from requests>=2.23.0->ultralytics) (3.4)\n",
      "Requirement already satisfied: urllib3<3,>=1.21.1 in c:\\users\\user\\anaconda3\\lib\\site-packages (from requests>=2.23.0->ultralytics) (2.2.1)\n",
      "Requirement already satisfied: certifi>=2017.4.17 in c:\\users\\user\\anaconda3\\lib\\site-packages (from requests>=2.23.0->ultralytics) (2023.11.17)\n",
      "Requirement already satisfied: filelock in c:\\users\\user\\anaconda3\\lib\\site-packages (from torch>=1.8.0->ultralytics) (3.9.0)\n",
      "Requirement already satisfied: typing-extensions>=4.8.0 in c:\\users\\user\\anaconda3\\lib\\site-packages (from torch>=1.8.0->ultralytics) (4.10.0)\n",
      "Requirement already satisfied: sympy in c:\\users\\user\\anaconda3\\lib\\site-packages (from torch>=1.8.0->ultralytics) (1.11.1)\n",
      "Requirement already satisfied: networkx in c:\\users\\user\\anaconda3\\lib\\site-packages (from torch>=1.8.0->ultralytics) (3.1)\n",
      "Requirement already satisfied: jinja2 in c:\\users\\user\\anaconda3\\lib\\site-packages (from torch>=1.8.0->ultralytics) (3.1.2)\n",
      "Requirement already satisfied: fsspec in c:\\users\\user\\anaconda3\\lib\\site-packages (from torch>=1.8.0->ultralytics) (2024.5.0)\n",
      "Requirement already satisfied: colorama in c:\\users\\user\\anaconda3\\lib\\site-packages (from tqdm>=4.64.0->ultralytics) (0.4.6)\n",
      "Requirement already satisfied: six>=1.5 in c:\\users\\user\\anaconda3\\lib\\site-packages (from python-dateutil>=2.7->matplotlib>=3.3.0->ultralytics) (1.16.0)\n",
      "Requirement already satisfied: MarkupSafe>=2.0 in c:\\users\\user\\anaconda3\\lib\\site-packages (from jinja2->torch>=1.8.0->ultralytics) (2.1.1)\n",
      "Requirement already satisfied: mpmath>=0.19 in c:\\users\\user\\anaconda3\\lib\\site-packages (from sympy->torch>=1.8.0->ultralytics) (1.3.0)\n"
     ]
    }
   ],
   "source": [
    "!pip install ultralytics\n"
   ]
  },
  {
   "cell_type": "code",
   "execution_count": 11,
   "id": "f6bb6e1d",
   "metadata": {},
   "outputs": [
    {
     "name": "stdout",
     "output_type": "stream",
     "text": [
      "🚀 Running Weighted Boxes Fusion...\n"
     ]
    },
    {
     "name": "stderr",
     "output_type": "stream",
     "text": [
      "100%|██████████| 852/852 [00:00<00:00, 864.77it/s] "
     ]
    },
    {
     "name": "stdout",
     "output_type": "stream",
     "text": [
      "\n",
      "🎉 Done! Fused YOLO-format predictions are saved to: C:/Mansura/UTI-Revision2/WBF/wbf_output_txt\n"
     ]
    },
    {
     "name": "stderr",
     "output_type": "stream",
     "text": [
      "\n"
     ]
    }
   ],
   "source": [
    "import os\n",
    "import numpy as np\n",
    "from ensemble_boxes import weighted_boxes_fusion\n",
    "import cv2\n",
    "from tqdm import tqdm\n",
    "\n",
    "# === CONFIG ===\n",
    "image_dir = \"C:/Mansura/UTI-Revision2/WBF/test_images\"\n",
    "yolov9e_pred_dir = \"C:/Mansura/UTI-Revision2/WBF/yolov9e_predictions\"\n",
    "kdyolox_pred_dir = \"C:/Mansura/UTI-Revision2/WBF/kd-yolox-vit_predictions\"\n",
    "output_txt_dir = \"C:/Mansura/UTI-Revision2/WBF/wbf_output_txt\"\n",
    "os.makedirs(output_txt_dir, exist_ok=True)\n",
    "\n",
    "# === Load image dimensions ===\n",
    "image_shapes = {\n",
    "    f: cv2.imread(os.path.join(image_dir, f)).shape[:2][::-1]\n",
    "    for f in os.listdir(image_dir) if f.endswith((\".jpg\", \".png\"))\n",
    "}\n",
    "\n",
    "# === Run WBF and write YOLO format TXT ===\n",
    "print(\"🚀 Running Weighted Boxes Fusion...\")\n",
    "for image_name in tqdm(image_shapes):\n",
    "    width, height = image_shapes[image_name]\n",
    "\n",
    "    boxes_list, scores_list, labels_list = [], [], []\n",
    "    total_input_boxes = 0\n",
    "\n",
    "    for pred_dir in [yolov9e_pred_dir, kdyolox_pred_dir]:\n",
    "        txt_path = os.path.join(pred_dir, os.path.splitext(image_name)[0] + \".txt\")\n",
    "        if os.path.exists(txt_path):\n",
    "            boxes, scores, labels = [], [], []\n",
    "            with open(txt_path, \"r\") as f:\n",
    "                for line in f:\n",
    "                    cls_id, conf, cx, cy, w, h = map(float, line.strip().split())\n",
    "                    x1 = cx - w / 2\n",
    "                    y1 = cy - h / 2\n",
    "                    x2 = cx + w / 2\n",
    "                    y2 = cy + h / 2\n",
    "                    # ✅ Do not normalize — already normalized!\n",
    "                    boxes.append([x1, y1, x2, y2])\n",
    "                    scores.append(conf)\n",
    "                    labels.append(int(cls_id))\n",
    "            if boxes:\n",
    "                total_input_boxes += len(boxes)\n",
    "                boxes_list.append(boxes)\n",
    "                scores_list.append(scores)\n",
    "                labels_list.append(labels)\n",
    "\n",
    "    if boxes_list:\n",
    "        boxes, scores, labels = weighted_boxes_fusion(\n",
    "            boxes_list, scores_list, labels_list, iou_thr=0.3, skip_box_thr=0.001\n",
    "        )\n",
    "\n",
    "        if len(boxes) > 0:\n",
    "            out_path = os.path.join(output_txt_dir, os.path.splitext(image_name)[0] + \".txt\")\n",
    "            with open(out_path, \"w\") as out_f:\n",
    "                for box, score, label in zip(boxes, scores, labels):\n",
    "                    cx = (box[0] + box[2]) / 2\n",
    "                    cy = (box[1] + box[3]) / 2\n",
    "                    bw = box[2] - box[0]\n",
    "                    bh = box[3] - box[1]\n",
    "                    out_f.write(f\"{int(label)} {score:.4f} {cx:.6f} {cy:.6f} {bw:.6f} {bh:.6f}\\n\")\n",
    "\n",
    "            #print(f\"✅ {image_name}: {total_input_boxes} input boxes → {len(boxes)} fused boxes\")\n",
    "        else:\n",
    "            print(f\"⚠️ {image_name}: {total_input_boxes} input boxes → 0 boxes after fusion\")\n",
    "    else:\n",
    "        print(f\"❌ {image_name}: No predictions from either model\")\n",
    "\n",
    "print(\"\\n🎉 Done! Fused YOLO-format predictions are saved to:\", output_txt_dir)\n"
   ]
  },
  {
   "cell_type": "markdown",
   "id": "76ae7126",
   "metadata": {},
   "source": [
    "Evaluatem WBF"
   ]
  },
  {
   "cell_type": "code",
   "execution_count": 15,
   "id": "8f76de23",
   "metadata": {},
   "outputs": [
    {
     "name": "stderr",
     "output_type": "stream",
     "text": [
      "Evaluating: 100%|██████████| 852/852 [00:00<00:00, 1912.22it/s]"
     ]
    },
    {
     "name": "stdout",
     "output_type": "stream",
     "text": [
      "\n",
      "       Class     Images  Instances        P        R    mAP50   mAP50-95\n",
      "---------------------------------------------------------------------------\n",
      "        cast        852        545    1.000 5884.000    0.000      0.002\n",
      "       cryst        852        317    0.000    0.000    0.000      0.000\n",
      "       epith        852        972    1.000 2838.000    0.000      0.001\n",
      "      epithn        852         77    0.000    0.000    0.000      0.000\n",
      "       eryth        852       3008    7.000 3026.000    0.002      0.002\n",
      "       leuko        852        796    1.000 1438.000    0.001      0.001\n",
      "      mycete        852        233    0.000    0.000    0.000      0.000\n",
      "---------------------------------------------------------------------------\n",
      "        Mean        852          -    1.429 1883.714    0.001      0.001\n"
     ]
    },
    {
     "name": "stderr",
     "output_type": "stream",
     "text": [
      "\n"
     ]
    }
   ],
   "source": [
    "import os\n",
    "import glob\n",
    "import torch\n",
    "import numpy as np\n",
    "from tqdm import tqdm\n",
    "from torchvision.ops import box_iou\n",
    "from ultralytics.utils.metrics import ap_per_class\n",
    "\n",
    "# === CONFIG ===\n",
    "gt_dir = \"C:/Mansura/UTI-Revision2/WBF/test_labels\"\n",
    "pred_dir = \"C:/Mansura/UTI-Revision2/WBF/wbf_output_txt\"\n",
    "class_names = [\"cast\", \"cryst\", \"epith\", \"epithn\", \"eryth\", \"leuko\", \"mycete\"]\n",
    "\n",
    "# === Containers ===\n",
    "correct_list, conf_list, pred_cls_list, gt_cls_list = [], [], [], []\n",
    "\n",
    "# === Evaluate Each Image ===\n",
    "for gt_path in tqdm(sorted(glob.glob(os.path.join(gt_dir, \"*.txt\"))), desc=\"Evaluating\"):\n",
    "    image_id = os.path.basename(gt_path)\n",
    "    pred_path = os.path.join(pred_dir, image_id)\n",
    "\n",
    "    gt_boxes, gt_classes = [], []\n",
    "    with open(gt_path) as f:\n",
    "        for line in f:\n",
    "            cls, cx, cy, w, h = map(float, line.strip().split())\n",
    "            x1, y1, x2, y2 = cx - w/2, cy - h/2, cx + w/2, cy + h/2\n",
    "            gt_boxes.append([x1, y1, x2, y2])\n",
    "            gt_classes.append(int(cls))\n",
    "\n",
    "    pred_boxes, pred_scores, pred_classes = [], [], []\n",
    "    if os.path.exists(pred_path):\n",
    "        with open(pred_path) as f:\n",
    "            for line in f:\n",
    "                cls, conf, cx, cy, w, h = map(float, line.strip().split())\n",
    "                x1, y1, x2, y2 = cx - w/2, cy - h/2, cx + w/2, cy + h/2\n",
    "                pred_boxes.append([x1, y1, x2, y2])\n",
    "                pred_scores.append(conf)\n",
    "                pred_classes.append(int(cls))\n",
    "\n",
    "    if not pred_boxes or not gt_boxes:\n",
    "        continue\n",
    "\n",
    "    # Convert to tensors\n",
    "    gt_boxes = torch.tensor(gt_boxes)\n",
    "    gt_classes = torch.tensor(gt_classes)\n",
    "    pred_boxes = torch.tensor(pred_boxes)\n",
    "    pred_scores = torch.tensor(pred_scores)\n",
    "    pred_classes = torch.tensor(pred_classes)\n",
    "\n",
    "    # Matching\n",
    "    ious = box_iou(pred_boxes, gt_boxes)\n",
    "    iou_max, iou_argmax = ious.max(1)\n",
    "    correct = torch.zeros(len(pred_boxes))\n",
    "    matched_gt = set()\n",
    "    for i, (iou, gt_idx) in enumerate(zip(iou_max, iou_argmax)):\n",
    "        if iou > 0.5 and pred_classes[i] == gt_classes[gt_idx] and gt_idx.item() not in matched_gt:\n",
    "            correct[i] = 1.0\n",
    "            matched_gt.add(gt_idx.item())\n",
    "\n",
    "    correct_list.append(correct.view(-1, 1))\n",
    "    conf_list.append(pred_scores)\n",
    "    pred_cls_list.append(pred_classes)\n",
    "    gt_cls_list.append(gt_classes)\n",
    "\n",
    "# === Calculate Metrics ===\n",
    "if correct_list:\n",
    "    stats = [torch.cat(x, 0) for x in (correct_list, conf_list, pred_cls_list, gt_cls_list)]\n",
    "    results = ap_per_class(*stats)\n",
    "\n",
    "    # Dynamically unpack results\n",
    "    precision, recall, ap50, *rest = results\n",
    "    ap5095 = rest[0] if len(rest) > 0 else ap50  # fallback if older version\n",
    "\n",
    "    # Print YOLO-style results\n",
    "    print(f\"\\n{'Class':>12} {'Images':>10} {'Instances':>10} {'P':>8} {'R':>8} {'mAP50':>8} {'mAP50-95':>10}\")\n",
    "    print(\"-\" * 75)\n",
    "    for i, cls_id in enumerate(range(len(class_names))):\n",
    "        class_name = class_names[cls_id]\n",
    "        instances = sum((gt == cls_id).sum().item() for gt in gt_cls_list)\n",
    "        print(f\"{class_name:>12} {len(gt_cls_list):10} {instances:10} \"\n",
    "              f\"{precision[i]:8.3f} {recall[i]:8.3f} {ap50[i]:8.3f} {ap5095[i]:10.3f}\")\n",
    "    print(\"-\" * 75)\n",
    "    print(f\"{'Mean':>12} {len(gt_cls_list):10} {'-':>10} \"\n",
    "          f\"{precision.mean():8.3f} {recall.mean():8.3f} {ap50.mean():8.3f} {ap5095.mean():10.3f}\")\n",
    "else:\n",
    "    print(\"❌ No predictions matched with any ground truths.\")\n"
   ]
  },
  {
   "cell_type": "markdown",
   "id": "4433f00e",
   "metadata": {},
   "source": [
    "NMS and Soft-NMS"
   ]
  },
  {
   "cell_type": "code",
   "execution_count": null,
   "id": "fee94a64",
   "metadata": {},
   "outputs": [],
   "source": []
  },
  {
   "cell_type": "code",
   "execution_count": null,
   "id": "372782ea",
   "metadata": {},
   "outputs": [],
   "source": []
  }
 ],
 "metadata": {
  "kernelspec": {
   "display_name": "base",
   "language": "python",
   "name": "python3"
  },
  "language_info": {
   "codemirror_mode": {
    "name": "ipython",
    "version": 3
   },
   "file_extension": ".py",
   "mimetype": "text/x-python",
   "name": "python",
   "nbconvert_exporter": "python",
   "pygments_lexer": "ipython3",
   "version": "3.11.5"
  }
 },
 "nbformat": 4,
 "nbformat_minor": 5
}
