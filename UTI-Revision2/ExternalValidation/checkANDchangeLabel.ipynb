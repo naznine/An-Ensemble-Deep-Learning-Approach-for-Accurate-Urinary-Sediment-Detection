{
 "cells": [
  {
   "cell_type": "code",
   "execution_count": 4,
   "id": "27229995",
   "metadata": {},
   "outputs": [
    {
     "name": "stdout",
     "output_type": "stream",
     "text": [
      "Unique class labels found: ['0', '1']\n"
     ]
    }
   ],
   "source": [
    "import os\n",
    "\n",
    "def find_unique_labels(label_dir):\n",
    "    unique_labels = set()\n",
    "\n",
    "    for filename in os.listdir(label_dir):\n",
    "        if filename.endswith('.txt'):\n",
    "            file_path = os.path.join(label_dir, filename)\n",
    "            with open(file_path, 'r') as f:\n",
    "                for line in f:\n",
    "                    if line.strip():  # skip empty lines\n",
    "                        class_id = line.strip().split()[0]\n",
    "                        unique_labels.add(class_id)\n",
    "\n",
    "    return sorted(unique_labels)\n",
    "\n",
    "# Example usage:\n",
    "label_directory = \"C:/Mansura/UTI-Revision2/ExternalValidation/A-clinical-1/data-directory/train/labels\"\n",
    "#label_directory = \"C:/Mansura/UTI-Revision2/ExternalValidation/DATA-UTI-LR/Data/train/labels\"\n",
    "classes = find_unique_labels(label_directory)\n",
    "print(f\"Unique class labels found: {classes}\")\n"
   ]
  },
  {
   "cell_type": "markdown",
   "id": "b4f00908",
   "metadata": {},
   "source": [
    "divide external validation data into train, test val"
   ]
  },
  {
   "cell_type": "code",
   "execution_count": null,
   "id": "85277a58",
   "metadata": {},
   "outputs": [
    {
     "name": "stdout",
     "output_type": "stream",
     "text": [
      "✅ Data split into train, val, test successfully.\n"
     ]
    }
   ],
   "source": [
    "import os\n",
    "import random\n",
    "import shutil\n",
    "\n",
    "# Set seed for reproducibility\n",
    "random.seed(42)\n",
    "\n",
    "# Paths\n",
    "image_dir = 'C:/Mansura/UTI-Revision2/ExternalValidation/A-clinical-1/all-images/images'       # folder with 300 .jpg/.png images\n",
    "label_dir = 'C:/Mansura/UTI-Revision2/ExternalValidation/A-clinical-1/all-images/labels'       # folder with 300 .txt files\n",
    "output_base = 'C:/Mansura/UTI-Revision2/ExternalValidation/A-clinical-1/data-directory'     # folder where train/val/test folders will be created\n",
    "\n",
    "# Collect image files\n",
    "image_files = [f for f in os.listdir(image_dir) if f.endswith(('.jpg', '.png'))]\n",
    "image_files.sort()  # optional: sort to ensure consistent order\n",
    "random.shuffle(image_files)\n",
    "\n",
    "# Split\n",
    "train_imgs = image_files[:60]\n",
    "val_imgs = image_files[60:90]\n",
    "test_imgs = image_files[90:300]\n",
    "\n",
    "splits = {'train': train_imgs, 'val': val_imgs, 'test': test_imgs}\n",
    "\n",
    "# Copy files\n",
    "for split, files in splits.items():\n",
    "    split_img_dir = os.path.join(output_base, split, 'images')\n",
    "    split_lbl_dir = os.path.join(output_base, split, 'labels')\n",
    "    os.makedirs(split_img_dir, exist_ok=True)\n",
    "    os.makedirs(split_lbl_dir, exist_ok=True)\n",
    "\n",
    "    for img in files:\n",
    "        label = os.path.splitext(img)[0] + '.txt'\n",
    "        shutil.copy2(os.path.join(image_dir, img), os.path.join(split_img_dir, img))\n",
    "        shutil.copy2(os.path.join(label_dir, label), os.path.join(split_lbl_dir, label))\n",
    "\n",
    "print(\"✅ Data split into train, val, test successfully.\")\n"
   ]
  },
  {
   "cell_type": "markdown",
   "id": "748ae103",
   "metadata": {},
   "source": [
    "DATA-UTI-LR class mapping for EV train"
   ]
  },
  {
   "cell_type": "code",
   "execution_count": 7,
   "id": "300c3fc9",
   "metadata": {},
   "outputs": [
    {
     "name": "stdout",
     "output_type": "stream",
     "text": [
      "✅ Labels remapped and unwanted classes removed.\n"
     ]
    }
   ],
   "source": [
    "import os\n",
    "from pathlib import Path\n",
    "\n",
    "# Dataset root path\n",
    "root_dir = Path(\"C:/Mansura/UTI-Revision2/ExternalValidation/DATA-UTI-LR/Data\")\n",
    "splits = ['train', 'val', 'test']\n",
    "\n",
    "def clean_and_remap_labels(filepath):\n",
    "    updated_lines = []\n",
    "    with open(filepath, 'r') as f:\n",
    "        for line in f:\n",
    "            parts = line.strip().split()\n",
    "            if not parts:\n",
    "                continue\n",
    "            cls = int(parts[0])\n",
    "            # Remap logic\n",
    "            if cls == 3:\n",
    "                parts[0] = '2'  # epithn → epith\n",
    "            elif cls == 4 or cls == 5:\n",
    "                parts[0] = '3'  # eryth, leuko → eryth_wbc\n",
    "            elif cls in [0, 1, 6]:\n",
    "                continue  # skip mycete or other classes\n",
    "            updated_lines.append(\" \".join(parts))\n",
    "    # Save if not empty\n",
    "    with open(filepath, 'w') as f:\n",
    "        f.write(\"\\n\".join(updated_lines))\n",
    "\n",
    "# Apply to all label files\n",
    "for split in splits:\n",
    "    label_dir = root_dir / split / \"labels\"\n",
    "    for label_file in label_dir.glob(\"*.txt\"):\n",
    "        clean_and_remap_labels(label_file)\n",
    "\n",
    "print(\"✅ Labels remapped and unwanted classes removed.\")\n"
   ]
  },
  {
   "cell_type": "markdown",
   "id": "e7c0aa32",
   "metadata": {},
   "source": [
    "map 2,3 class label to 0,1"
   ]
  },
  {
   "cell_type": "code",
   "execution_count": 1,
   "id": "d461d57c",
   "metadata": {},
   "outputs": [
    {
     "name": "stdout",
     "output_type": "stream",
     "text": [
      "Processing: C:/Mansura/UTI-Revision2/ExternalValidation/A-clinical-1/data-directory\\train\\labels\n",
      "Processing: C:/Mansura/UTI-Revision2/ExternalValidation/A-clinical-1/data-directory\\val\\labels\n",
      "Processing: C:/Mansura/UTI-Revision2/ExternalValidation/A-clinical-1/data-directory\\test\\labels\n",
      "Processing: C:/Mansura/UTI-Revision2/ExternalValidation/DATA-UTI-LR/Data\\train\\labels\n",
      "Processing: C:/Mansura/UTI-Revision2/ExternalValidation/DATA-UTI-LR/Data\\val\\labels\n",
      "Processing: C:/Mansura/UTI-Revision2/ExternalValidation/DATA-UTI-LR/Data\\test\\labels\n"
     ]
    }
   ],
   "source": [
    "import os\n",
    "import glob\n",
    "\n",
    "# Define root directories for both datasets\n",
    "datasets = [\n",
    "    \"C:/Mansura/UTI-Revision2/ExternalValidation/A-clinical-1/data-directory\",            # Clinical data\n",
    "    \"C:/Mansura/UTI-Revision2/ExternalValidation/DATA-UTI-LR/Data\"     # DATA-UTI-LR data\n",
    "]\n",
    "\n",
    "# Subfolders to check\n",
    "splits = ['train', 'val', 'test']\n",
    "\n",
    "# Class remapping: old → new\n",
    "class_map = {\n",
    "    2: 0,\n",
    "    3: 1\n",
    "}\n",
    "\n",
    "def update_labels(label_dir):\n",
    "    label_files = glob.glob(os.path.join(label_dir, '*.txt'))\n",
    "    for label_file in label_files:\n",
    "        new_lines = []\n",
    "        with open(label_file, 'r') as f:\n",
    "            for line in f:\n",
    "                parts = line.strip().split()\n",
    "                if not parts:\n",
    "                    continue\n",
    "                cls = int(parts[0])\n",
    "                if cls in class_map:\n",
    "                    parts[0] = str(class_map[cls])\n",
    "                    new_lines.append(' '.join(parts))\n",
    "                else:\n",
    "                    continue  # skip all other classes\n",
    "        with open(label_file, 'w') as f:\n",
    "            f.write('\\n'.join(new_lines))\n",
    "\n",
    "# Apply changes to each dataset and split\n",
    "for dataset_path in datasets:\n",
    "    for split in splits:\n",
    "        label_path = os.path.join(dataset_path, split, 'labels')\n",
    "        if os.path.exists(label_path):\n",
    "            print(f\"Processing: {label_path}\")\n",
    "            update_labels(label_path)\n"
   ]
  }
 ],
 "metadata": {
  "kernelspec": {
   "display_name": "base",
   "language": "python",
   "name": "python3"
  },
  "language_info": {
   "codemirror_mode": {
    "name": "ipython",
    "version": 3
   },
   "file_extension": ".py",
   "mimetype": "text/x-python",
   "name": "python",
   "nbconvert_exporter": "python",
   "pygments_lexer": "ipython3",
   "version": "3.11.5"
  }
 },
 "nbformat": 4,
 "nbformat_minor": 5
}
